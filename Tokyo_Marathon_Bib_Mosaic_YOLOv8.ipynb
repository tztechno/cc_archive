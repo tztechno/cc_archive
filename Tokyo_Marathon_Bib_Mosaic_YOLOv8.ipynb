{
  "metadata": {
    "kernelspec": {
      "language": "python",
      "display_name": "Python 3",
      "name": "python3"
    },
    "language_info": {
      "name": "python",
      "version": "3.10.14",
      "mimetype": "text/x-python",
      "codemirror_mode": {
        "name": "ipython",
        "version": 3
      },
      "pygments_lexer": "ipython3",
      "nbconvert_exporter": "python",
      "file_extension": ".py"
    },
    "kaggle": {
      "accelerator": "nvidiaTeslaT4",
      "dataSources": [
        {
          "sourceId": 5141491,
          "sourceType": "datasetVersion",
          "datasetId": 2987126
        }
      ],
      "isInternetEnabled": true,
      "language": "python",
      "sourceType": "notebook",
      "isGpuEnabled": true
    },
    "colab": {
      "name": "Tokyo Marathon Bib Mosaic YOLOv8",
      "provenance": [],
      "include_colab_link": true
    }
  },
  "nbformat_minor": 0,
  "nbformat": 4,
  "cells": [
    {
      "cell_type": "markdown",
      "metadata": {
        "id": "view-in-github",
        "colab_type": "text"
      },
      "source": [
        "<a href=\"https://colab.research.google.com/github/tztechno/cc_archive/blob/main/Tokyo_Marathon_Bib_Mosaic_YOLOv8.ipynb\" target=\"_parent\"><img src=\"https://colab.research.google.com/assets/colab-badge.svg\" alt=\"Open In Colab\"/></a>"
      ]
    },
    {
      "source": [
        "# IMPORTANT: RUN THIS CELL IN ORDER TO IMPORT YOUR KAGGLE DATA SOURCES,\n",
        "# THEN FEEL FREE TO DELETE THIS CELL.\n",
        "# NOTE: THIS NOTEBOOK ENVIRONMENT DIFFERS FROM KAGGLE'S PYTHON\n",
        "# ENVIRONMENT SO THERE MAY BE MISSING LIBRARIES USED BY YOUR\n",
        "# NOTEBOOK.\n",
        "import kagglehub\n",
        "bghai19_tokiomarathon2020_path = kagglehub.dataset_download('bghai19/tokiomarathon2020')\n",
        "\n",
        "print('Data source import complete.')\n"
      ],
      "metadata": {
        "id": "yNDY0g3BPp_t"
      },
      "cell_type": "code",
      "outputs": [],
      "execution_count": null
    },
    {
      "cell_type": "markdown",
      "source": [
        "# Tokyo Marathon Bib Mosaic YOLOv8\n",
        "https://docs.ultralytics.com/tasks/pose/\n",
        "https://www.kaggle.com/code/stpeteishii/tokyo-marathon-pose-yolov8"
      ],
      "metadata": {
        "papermill": {
          "duration": 0.004419,
          "end_time": "2023-05-26T05:44:57.446479",
          "exception": false,
          "start_time": "2023-05-26T05:44:57.44206",
          "status": "completed"
        },
        "tags": [],
        "id": "TAUqyCZVPp_x"
      }
    },
    {
      "cell_type": "code",
      "source": [
        "!rm -rf images\n",
        "!rm -rf runs\n",
        "!rm -rf yolov8_pose\n",
        "!rm *"
      ],
      "metadata": {
        "execution": {
          "iopub.status.busy": "2024-11-17T07:06:14.768553Z",
          "iopub.execute_input": "2024-11-17T07:06:14.768995Z",
          "iopub.status.idle": "2024-11-17T07:06:18.736267Z",
          "shell.execute_reply.started": "2024-11-17T07:06:14.768956Z",
          "shell.execute_reply": "2024-11-17T07:06:18.734941Z"
        },
        "trusted": true,
        "id": "LdyYSgFfPp_0"
      },
      "outputs": [],
      "execution_count": null
    },
    {
      "cell_type": "code",
      "source": [
        "!ls"
      ],
      "metadata": {
        "trusted": true,
        "execution": {
          "iopub.status.busy": "2024-11-17T07:06:18.738665Z",
          "iopub.execute_input": "2024-11-17T07:06:18.739003Z",
          "iopub.status.idle": "2024-11-17T07:06:19.731204Z",
          "shell.execute_reply.started": "2024-11-17T07:06:18.738966Z",
          "shell.execute_reply": "2024-11-17T07:06:19.729932Z"
        },
        "id": "yG40zDUEPp_1"
      },
      "outputs": [],
      "execution_count": null
    },
    {
      "cell_type": "code",
      "source": [
        "!pip install ultralytics"
      ],
      "metadata": {
        "_kg_hide-output": true,
        "execution": {
          "iopub.status.busy": "2024-11-17T07:06:19.732733Z",
          "iopub.execute_input": "2024-11-17T07:06:19.733088Z",
          "iopub.status.idle": "2024-11-17T07:06:31.523664Z",
          "shell.execute_reply.started": "2024-11-17T07:06:19.733038Z",
          "shell.execute_reply": "2024-11-17T07:06:31.522481Z"
        },
        "trusted": true,
        "id": "PojV__2ePp_1"
      },
      "outputs": [],
      "execution_count": null
    },
    {
      "cell_type": "code",
      "source": [
        "import os\n",
        "import cv2\n",
        "import shutil\n",
        "import numpy as np\n",
        "import pandas as pd\n",
        "from IPython.display import Video\n",
        "from ultralytics import YOLO\n",
        "from PIL import Image, ImageDraw\n",
        "import matplotlib.pyplot as plt\n",
        "from matplotlib import animation, rc\n",
        "rc('animation', html='jshtml')"
      ],
      "metadata": {
        "papermill": {
          "duration": 0.020735,
          "end_time": "2023-05-26T05:45:32.772864",
          "exception": false,
          "start_time": "2023-05-26T05:45:32.752129",
          "status": "completed"
        },
        "tags": [],
        "execution": {
          "iopub.status.busy": "2024-11-17T07:06:31.525237Z",
          "iopub.execute_input": "2024-11-17T07:06:31.525628Z",
          "iopub.status.idle": "2024-11-17T07:06:31.531823Z",
          "shell.execute_reply.started": "2024-11-17T07:06:31.52559Z",
          "shell.execute_reply": "2024-11-17T07:06:31.530857Z"
        },
        "trusted": true,
        "id": "XsrvMAeFPp_1"
      },
      "outputs": [],
      "execution_count": null
    },
    {
      "cell_type": "code",
      "source": [
        "!mkdir images"
      ],
      "metadata": {
        "execution": {
          "iopub.status.busy": "2024-11-17T07:06:31.534487Z",
          "iopub.execute_input": "2024-11-17T07:06:31.534777Z",
          "iopub.status.idle": "2024-11-17T07:06:32.529958Z",
          "shell.execute_reply.started": "2024-11-17T07:06:31.534746Z",
          "shell.execute_reply": "2024-11-17T07:06:32.528772Z"
        },
        "trusted": true,
        "id": "IgKCF1Z6Pp_2"
      },
      "outputs": [],
      "execution_count": null
    },
    {
      "cell_type": "code",
      "source": [
        "paths0=[]\n",
        "for dirname, _, filenames in os.walk('/kaggle/input/tokiomarathon2020'):\n",
        "    for filename in filenames:\n",
        "        paths0+=[(os.path.join(dirname, filename))]\n",
        "\n",
        "dest='./images'\n",
        "for i,path in enumerate(paths0[3:8]):\n",
        "    shutil.copy(path,os.path.join(dest,f'{i:02d}.png'))\n",
        "\n",
        "!ls images"
      ],
      "metadata": {
        "papermill": {
          "duration": 1.11458,
          "end_time": "2023-05-26T05:45:33.900837",
          "exception": false,
          "start_time": "2023-05-26T05:45:32.786257",
          "status": "completed"
        },
        "tags": [],
        "trusted": true,
        "execution": {
          "iopub.status.busy": "2024-11-17T07:06:32.531551Z",
          "iopub.execute_input": "2024-11-17T07:06:32.531897Z",
          "iopub.status.idle": "2024-11-17T07:06:33.53953Z",
          "shell.execute_reply.started": "2024-11-17T07:06:32.531858Z",
          "shell.execute_reply": "2024-11-17T07:06:33.53827Z"
        },
        "id": "tnEOGb5EPp_2"
      },
      "outputs": [],
      "execution_count": null
    },
    {
      "cell_type": "code",
      "source": [
        "paths=[]\n",
        "for dirname, _, filenames in os.walk('./images'):\n",
        "    for filename in filenames:\n",
        "        paths+=[(os.path.join(dirname, filename))]\n",
        "\n",
        "paths.sort()\n",
        "print(paths)"
      ],
      "metadata": {
        "trusted": true,
        "execution": {
          "iopub.status.busy": "2024-11-17T07:06:33.54105Z",
          "iopub.execute_input": "2024-11-17T07:06:33.541454Z",
          "iopub.status.idle": "2024-11-17T07:06:33.547927Z",
          "shell.execute_reply.started": "2024-11-17T07:06:33.541414Z",
          "shell.execute_reply": "2024-11-17T07:06:33.547041Z"
        },
        "id": "Gx3QpS-jPp_3"
      },
      "outputs": [],
      "execution_count": null
    },
    {
      "cell_type": "markdown",
      "source": [
        "    Argument\tType\tDefault\tDescription\n",
        "    \n",
        "    show\tbool\tFalse\tIf True, displays the annotated images or videos in a window. Useful for immediate visual feedback during development or testing.\n",
        "    \n",
        "    save\tbool\tFalse or True\tEnables saving of the annotated images or videos to file. Useful for documentation, further analysis, or sharing results. Defaults to True when using CLI & False when used in Python.\n",
        "    \n",
        "    save_frames\tbool\tFalse\tWhen processing videos, saves individual frames as images. Useful for extracting specific frames or for detailed frame-by-frame analysis.\n",
        "    \n",
        "    save_txt\tbool\tFalse\tSaves detection results in a text file, following the format [class] [x_center] [y_center] [width] [height] [confidence]. Useful for integration with other analysis tools.\n",
        "    \n",
        "    save_conf\tbool\tFalse\tIncludes confidence scores in the saved text files. Enhances the detail available for post-processing and analysis.\n",
        "    \n",
        "    save_crop\tbool\tFalse\tSaves cropped images of detections. Useful for dataset augmentation, analysis, or creating focused datasets for specific objects.\n",
        "    \n",
        "    show_labels\tbool\tTrue\tDisplays labels for each detection in the visual output. Provides immediate understanding of detected objects.\n",
        "    \n",
        "    show_conf\tbool\tTrue\tDisplays the confidence score for each detection alongside the label. Gives insight into the model's certainty for each detection.\n",
        "    \n",
        "    show_boxes\tbool\tTrue\tDraws bounding boxes around detected objects. Essential for visual identification and location of objects in images or video frames.\n",
        "    \n",
        "    line_width\tNone or int\tNone\tSpecifies the line width of bounding boxes. If None, the line width is automatically adjusted based on the image size. Provides visual customization for clarity."
      ],
      "metadata": {
        "_kg_hide-input": true,
        "id": "5hj1IQR1Pp_3"
      }
    },
    {
      "cell_type": "code",
      "source": [
        "!yolo pose predict model=yolov8x-pose.pt source=images show_boxes=False save_txt=True conf=0.8"
      ],
      "metadata": {
        "execution": {
          "iopub.status.busy": "2024-11-17T07:06:33.549195Z",
          "iopub.execute_input": "2024-11-17T07:06:33.549551Z",
          "iopub.status.idle": "2024-11-17T07:06:42.887043Z",
          "shell.execute_reply.started": "2024-11-17T07:06:33.54951Z",
          "shell.execute_reply": "2024-11-17T07:06:42.885909Z"
        },
        "trusted": true,
        "id": "AuL1zlv_Pp_3"
      },
      "outputs": [],
      "execution_count": null
    },
    {
      "cell_type": "code",
      "source": [
        "output_path = '/kaggle/working/runs/pose/predict'\n",
        "\n",
        "opaths=[]\n",
        "tpaths=[]\n",
        "for dirname, _, filenames in os.walk(output_path):\n",
        "    for filename in filenames:\n",
        "        path=(os.path.join(dirname, filename))\n",
        "        if filename.endswith('.jpg'):\n",
        "            opaths+=[path]\n",
        "        else:\n",
        "            tpaths+=[path]\n",
        "\n",
        "opaths.sort()\n",
        "tpaths.sort()\n",
        "print(opaths)\n",
        "print(tpaths)"
      ],
      "metadata": {
        "trusted": true,
        "execution": {
          "iopub.status.busy": "2024-11-17T07:06:42.888677Z",
          "iopub.execute_input": "2024-11-17T07:06:42.889434Z",
          "iopub.status.idle": "2024-11-17T07:06:42.896886Z",
          "shell.execute_reply.started": "2024-11-17T07:06:42.889391Z",
          "shell.execute_reply": "2024-11-17T07:06:42.895957Z"
        },
        "id": "KztTIHf6Pp_4"
      },
      "outputs": [],
      "execution_count": null
    },
    {
      "cell_type": "code",
      "source": [
        "# [class_id] [x_center] [y_center] [width] [height] [keypoint_1_x] [keypoint_1_y] [keypoint_1_conf] ... [keypoint_n_x] [keypoint_n_y] [keypoint_n_conf]\n",
        "\n",
        "for path in tpaths:\n",
        "    with open(path, 'r', encoding='utf-8') as file:\n",
        "        content = file.read()\n",
        "        print(content)"
      ],
      "metadata": {
        "trusted": true,
        "execution": {
          "iopub.status.busy": "2024-11-17T07:06:42.898222Z",
          "iopub.execute_input": "2024-11-17T07:06:42.898604Z",
          "iopub.status.idle": "2024-11-17T07:06:42.90747Z",
          "shell.execute_reply.started": "2024-11-17T07:06:42.898555Z",
          "shell.execute_reply": "2024-11-17T07:06:42.906569Z"
        },
        "id": "NSYg8scBPp_5"
      },
      "outputs": [],
      "execution_count": null
    },
    {
      "cell_type": "code",
      "source": [
        "def parse_pose_data(lines):\n",
        "    \"\"\"\n",
        "    Function to extract position information of each body part from multiple lines of YOLOv8 Pose output.\n",
        "    Args:\n",
        "        lines (list of str): A list of output lines from YOLOv8.\n",
        "    Returns:\n",
        "        list of dict: A list of dictionaries, each containing body part positions for a line of output.\n",
        "                      If a body part is not detected, its value will be None.\n",
        "    \"\"\"\n",
        "    # COCO body part names (17-point format)\n",
        "    keypoint_names = [\n",
        "        \"nose\", \"left_eye\", \"right_eye\", \"left_ear\", \"right_ear\",\n",
        "        \"left_shoulder\", \"right_shoulder\", \"left_elbow\", \"right_elbow\",\n",
        "        \"left_wrist\", \"right_wrist\", \"left_hip\", \"right_hip\",\n",
        "        \"left_knee\", \"right_knee\", \"left_ankle\", \"right_ankle\"\n",
        "    ]\n",
        "\n",
        "    # Result list to store the parsed data for each line\n",
        "    parsed_results = []\n",
        "\n",
        "    for line in lines.splitlines():\n",
        "\n",
        "        # Parse the data from each line\n",
        "        data = list(map(float, line.strip().split()))\n",
        "\n",
        "        # Class ID (the first value)\n",
        "        class_id = int(data[0])\n",
        "\n",
        "        # Bounding box (next 4 values)\n",
        "        bbox = {\n",
        "            \"x_center\": data[1],\n",
        "            \"y_center\": data[2],\n",
        "            \"width\": data[3],\n",
        "            \"height\": data[4]\n",
        "        }\n",
        "\n",
        "        # Body part information (from the 5th value onward)\n",
        "        keypoints = data[5:]\n",
        "\n",
        "        # Convert keypoint information to a dictionary\n",
        "        result = {name: None for name in keypoint_names}\n",
        "        keypoint_index = 0\n",
        "\n",
        "        for name in keypoint_names:\n",
        "            if keypoint_index < len(keypoints):\n",
        "                # If not detected, the data will be \"0\"\n",
        "                if keypoints[keypoint_index] == 0:\n",
        "                    result[name] = None\n",
        "                    keypoint_index += 3  # Skip one set (for undetected keypoints)\n",
        "                else:\n",
        "                    # If detected, store the (x, y, confidence)\n",
        "                    x = keypoints[keypoint_index]\n",
        "                    y = keypoints[keypoint_index + 1]\n",
        "                    conf = keypoints[keypoint_index + 2]\n",
        "                    result[name] = (x, y, conf)\n",
        "                    keypoint_index += 3  # Move ahead by three values (x, y, confidence)\n",
        "\n",
        "        # Append the result for this line\n",
        "        parsed_results.append({\"class_id\": class_id, \"bbox\": bbox, \"keypoints\": result})\n",
        "\n",
        "    return parsed_results"
      ],
      "metadata": {
        "trusted": true,
        "execution": {
          "iopub.status.busy": "2024-11-17T07:06:42.909925Z",
          "iopub.execute_input": "2024-11-17T07:06:42.910487Z",
          "iopub.status.idle": "2024-11-17T07:06:42.921642Z",
          "shell.execute_reply.started": "2024-11-17T07:06:42.910454Z",
          "shell.execute_reply": "2024-11-17T07:06:42.920816Z"
        },
        "id": "erRSXCHpPp_6"
      },
      "outputs": [],
      "execution_count": null
    },
    {
      "cell_type": "code",
      "source": [
        "def calculate_bounding_box(keypoints, part1, part2):\n",
        "    \"\"\"\n",
        "    Function to calculate a bounding box based on two body parts.\n",
        "    Args:\n",
        "        keypoints (dict): A dictionary with body part names as keys and (x, y, confidence) as values.\n",
        "        part1 (str): The name of the first body part to be used in the bounding box.\n",
        "        part2 (str): The name of the second body part to be used in the bounding box.\n",
        "    Returns:\n",
        "        dict: A dictionary representing the bounding box (x_min, y_min, x_max, y_max) or None if either part is not detected.\n",
        "    \"\"\"\n",
        "    # Retrieve the coordinates for part1 and part2\n",
        "    part1_data = keypoints.get(part1)\n",
        "    part2_data = keypoints.get(part2)\n",
        "\n",
        "    # If either part is not detected (None), return None\n",
        "    if part1_data is None:\n",
        "        print(f\"{part1} is not detected.\")\n",
        "        return None\n",
        "    if part2_data is None:\n",
        "        print(f\"{part2} is not detected.\")\n",
        "        return None\n",
        "\n",
        "    # Extract coordinates (x, y)\n",
        "    x1, y1, _ = part1_data\n",
        "    x2, y2, _ = part2_data\n",
        "\n",
        "    # Calculate the bounding box by finding the min/max x and y values\n",
        "    x_min = min(x1, x2)\n",
        "    y_min = min(y1, y2)\n",
        "    x_max = max(x1, x2)\n",
        "    y_max = max(y1, y2)\n",
        "\n",
        "    return {\"x_min\": x_min, \"y_min\": y_min, \"x_max\": x_max, \"y_max\": y_max}"
      ],
      "metadata": {
        "trusted": true,
        "execution": {
          "iopub.status.busy": "2024-11-17T07:06:42.922868Z",
          "iopub.execute_input": "2024-11-17T07:06:42.923212Z",
          "iopub.status.idle": "2024-11-17T07:06:42.936147Z",
          "shell.execute_reply.started": "2024-11-17T07:06:42.92318Z",
          "shell.execute_reply": "2024-11-17T07:06:42.935188Z"
        },
        "id": "pnvh3JNxPp_6"
      },
      "outputs": [],
      "execution_count": null
    },
    {
      "cell_type": "code",
      "source": [
        "RESULTS=[]\n",
        "for path in tpaths:\n",
        "    with open(path, 'r', encoding='utf-8') as file:\n",
        "        content = file.read()\n",
        "        results = parse_pose_data(content)\n",
        "        RESULTS+=[results]\n",
        "        print(len(results))"
      ],
      "metadata": {
        "trusted": true,
        "execution": {
          "iopub.status.busy": "2024-11-17T07:06:42.93724Z",
          "iopub.execute_input": "2024-11-17T07:06:42.937732Z",
          "iopub.status.idle": "2024-11-17T07:06:42.944796Z",
          "shell.execute_reply.started": "2024-11-17T07:06:42.9377Z",
          "shell.execute_reply": "2024-11-17T07:06:42.944043Z"
        },
        "id": "4zpS9gliPp_6"
      },
      "outputs": [],
      "execution_count": null
    },
    {
      "cell_type": "code",
      "source": [
        "BOX=[]\n",
        "for results in RESULTS:\n",
        "    boxes=[]\n",
        "    for result in results:\n",
        "        # Retrieve Keypoints\n",
        "        keypoints = result[\"keypoints\"]\n",
        "\n",
        "        # Bounding box for left shoulder and right hip\n",
        "        box_left_shoulder_right_hip = calculate_bounding_box(keypoints, \"left_shoulder\", \"right_hip\")\n",
        "        if box_left_shoulder_right_hip is not None:\n",
        "            print(\"Bounding box for left shoulder and right hip:\", box_left_shoulder_right_hip)\n",
        "            boxes+=[box_left_shoulder_right_hip]\n",
        "        else:\n",
        "            print(\"Bounding box for left shoulder and right hip not detected.\")\n",
        "\n",
        "        # Bounding box for right shoulder and left hip\n",
        "        box_right_shoulder_left_hip = calculate_bounding_box(keypoints, \"right_shoulder\", \"left_hip\")\n",
        "        if box_right_shoulder_left_hip is not None:\n",
        "            print(\"Bounding box for right shoulder and left hip:\", box_right_shoulder_left_hip)\n",
        "            boxes+=[box_right_shoulder_left_hip]\n",
        "        else:\n",
        "            print(\"Bounding box for right shoulder and left hip not detected.\")\n",
        "    BOX+=[boxes]"
      ],
      "metadata": {
        "trusted": true,
        "execution": {
          "iopub.status.busy": "2024-11-17T07:06:42.948408Z",
          "iopub.execute_input": "2024-11-17T07:06:42.948694Z",
          "iopub.status.idle": "2024-11-17T07:06:42.955752Z",
          "shell.execute_reply.started": "2024-11-17T07:06:42.948665Z",
          "shell.execute_reply": "2024-11-17T07:06:42.954935Z"
        },
        "id": "O4vzxoGHPp_6"
      },
      "outputs": [],
      "execution_count": null
    },
    {
      "cell_type": "code",
      "source": [
        "def get_middle_bbox(x0, y0, x1, y1):\n",
        "    \"\"\"\n",
        "    Given a bounding box (x0, y0, x1, y1), this function divides it into three equal parts along the y-axis\n",
        "    and returns the coordinates of the middle part of the bounding box.\n",
        "\n",
        "    Args:\n",
        "        x0 (float): The x-coordinate of the top-left corner of the bounding box.\n",
        "        y0 (float): The y-coordinate of the top-left corner of the bounding box.\n",
        "        x1 (float): The x-coordinate of the bottom-right corner of the bounding box.\n",
        "        y1 (float): The y-coordinate of the bottom-right corner of the bounding box.\n",
        "\n",
        "    Returns:\n",
        "        tuple: The coordinates of the middle bounding box (x0_new, y0_new, x1_new, y1_new).\n",
        "    \"\"\"\n",
        "    # Height of the bounding box\n",
        "    height = max(y0,y1) - min(y0,y1)\n",
        "\n",
        "    # Calculate the middle position by dividing the height into three equal parts\n",
        "    middle_start = int(y0 + height / 3)\n",
        "    middle_end = int(y0 + 2 * (height / 3))\n",
        "\n",
        "    # Return the coordinates of the new bounding box\n",
        "    return (x0 - 5, middle_start, x1 + 5, middle_end)"
      ],
      "metadata": {
        "trusted": true,
        "execution": {
          "iopub.status.busy": "2024-11-17T07:06:42.956832Z",
          "iopub.execute_input": "2024-11-17T07:06:42.957154Z",
          "iopub.status.idle": "2024-11-17T07:06:42.968108Z",
          "shell.execute_reply.started": "2024-11-17T07:06:42.95711Z",
          "shell.execute_reply": "2024-11-17T07:06:42.967224Z"
        },
        "id": "yUoG2ZvFPp_7"
      },
      "outputs": [],
      "execution_count": null
    },
    {
      "cell_type": "code",
      "source": [
        "def mosaic(src, ratio=0.1):\n",
        "    small = cv2.resize(src, None, fx=ratio, fy=ratio, interpolation=cv2.INTER_NEAREST)\n",
        "    return cv2.resize(small, src.shape[:2][::-1], interpolation=cv2.INTER_NEAREST)"
      ],
      "metadata": {
        "trusted": true,
        "execution": {
          "iopub.status.busy": "2024-11-17T07:06:42.969223Z",
          "iopub.execute_input": "2024-11-17T07:06:42.969602Z",
          "iopub.status.idle": "2024-11-17T07:06:42.981248Z",
          "shell.execute_reply.started": "2024-11-17T07:06:42.969559Z",
          "shell.execute_reply": "2024-11-17T07:06:42.980413Z"
        },
        "id": "hv26bsB2Pp_7"
      },
      "outputs": [],
      "execution_count": null
    },
    {
      "cell_type": "code",
      "source": [
        "for i,boxes in enumerate(BOX):\n",
        "    path=paths[i]\n",
        "    image2=plt.imread(path)\n",
        "    H,W=image2.shape[0:2]\n",
        "    print(image2.flatten().max())\n",
        "\n",
        "    for box in boxes:\n",
        "        try:\n",
        "            x0, y0, x1, y1 = int(box['x_min']*W),int(box['y_min']*H),int(box['x_max']*W),int(box['y_max']*H)\n",
        "            x2, y2, x3, y3 = get_middle_bbox(x0, y0, x1, y1)\n",
        "            #print(x2,y2,x3,y3)\n",
        "            #cv2.rectangle(image2,(x2,y2),(x3,y3),(255,0,0),3)\n",
        "            mosaic_image=mosaic(image2[y2:y3,x2:x3])\n",
        "            image2[y2:y3,x2:x3]=mosaic_image\n",
        "        except:\n",
        "            pass\n",
        "\n",
        "    output_path = f\"./mz{path.split('/')[-1]}\"\n",
        "    cv2.imwrite(output_path, image2*255)\n",
        "\n",
        "    plt.figure(figsize=(10,10))\n",
        "    plt.axis('off')\n",
        "    plt.imshow(image2)\n",
        "    plt.show()"
      ],
      "metadata": {
        "trusted": true,
        "execution": {
          "iopub.status.busy": "2024-11-17T07:06:43.003631Z",
          "iopub.execute_input": "2024-11-17T07:06:43.003903Z",
          "iopub.status.idle": "2024-11-17T07:06:43.012007Z",
          "shell.execute_reply.started": "2024-11-17T07:06:43.003874Z",
          "shell.execute_reply": "2024-11-17T07:06:43.011241Z"
        },
        "id": "GLhPjnLQPp_7"
      },
      "outputs": [],
      "execution_count": null
    },
    {
      "cell_type": "code",
      "source": [
        "from PIL import Image\n",
        "frames = [Image.open(path) for path in opaths]\n",
        "frames[0].save(\n",
        "    \"animation.gif\",\n",
        "    save_all=True,\n",
        "    append_images=frames[1:],\n",
        "    duration=1000,\n",
        "    loop=0\n",
        ")\n",
        "output_path=\"animation.gif\""
      ],
      "metadata": {
        "papermill": {
          "duration": 2.048101,
          "end_time": "2023-05-26T05:56:48.588041",
          "exception": false,
          "start_time": "2023-05-26T05:56:46.53994",
          "status": "completed"
        },
        "tags": [],
        "trusted": true,
        "execution": {
          "iopub.status.busy": "2024-11-17T07:06:43.013025Z",
          "iopub.execute_input": "2024-11-17T07:06:43.013806Z",
          "iopub.status.idle": "2024-11-17T07:06:43.055934Z",
          "shell.execute_reply.started": "2024-11-17T07:06:43.013773Z",
          "shell.execute_reply": "2024-11-17T07:06:43.054755Z"
        },
        "id": "REQr3W8DPp_8"
      },
      "outputs": [],
      "execution_count": null
    },
    {
      "cell_type": "code",
      "source": [
        "from IPython.display import Image\n",
        "Image(open(output_path, 'rb').read())"
      ],
      "metadata": {
        "trusted": true,
        "execution": {
          "iopub.status.busy": "2024-11-17T07:06:43.056656Z",
          "iopub.status.idle": "2024-11-17T07:06:43.056988Z",
          "shell.execute_reply.started": "2024-11-17T07:06:43.056819Z",
          "shell.execute_reply": "2024-11-17T07:06:43.056836Z"
        },
        "id": "O1q5Jc3UPp_8"
      },
      "outputs": [],
      "execution_count": null
    },
    {
      "cell_type": "code",
      "source": [],
      "metadata": {
        "papermill": {
          "duration": 0.07786,
          "end_time": "2023-05-26T05:56:48.903548",
          "exception": false,
          "start_time": "2023-05-26T05:56:48.825688",
          "status": "completed"
        },
        "tags": [],
        "trusted": true,
        "id": "ULJPHz9zPp_8"
      },
      "outputs": [],
      "execution_count": null
    }
  ]
}